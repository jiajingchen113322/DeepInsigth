{
 "cells": [
  {
   "cell_type": "code",
   "execution_count": 15,
   "metadata": {},
   "outputs": [],
   "source": [
    "import numpy as np\n",
    "import torch\n",
    "cf=np.load('/data1/jiajing/worksapce/Project/Zero_Shot/Exp/training_lr_3*1e-4/cm.npy')\n",
    "\n"
   ]
  },
  {
   "cell_type": "code",
   "execution_count": 16,
   "metadata": {},
   "outputs": [
    {
     "name": "stdout",
     "output_type": "stream",
     "text": [
      "[[145.   0.   0.   0.   7.   2.   7.   0.]\n",
      " [  0. 115.   0.   0.   1.   0.   0.  13.]\n",
      " [  0.   0. 168.   0.   1.   1.   0.   0.]\n",
      " [ 27.   0.   0.  93.   0.   0.   4.  33.]\n",
      " [  9.   0.   0.   0. 122.   4.   1.   0.]\n",
      " [  9.   0.   0.   0.   2. 109.  13.   0.]\n",
      " [ 18.   1.   1.   0.   0.   0. 142.   3.]\n",
      " [  0.   7.   0.  45.  18.   0.   0. 124.]]\n"
     ]
    }
   ],
   "source": [
    "print(cf)"
   ]
  },
  {
   "cell_type": "code",
   "execution_count": 14,
   "metadata": {},
   "outputs": [
    {
     "name": "stdout",
     "output_type": "stream",
     "text": [
      "accuracy is  0.8176706827309237\n",
      "0.6473214285714286\n",
      "0.8394160583941606\n",
      "0.9824561403508771\n",
      "0.4603960396039604\n",
      "0.7393939393939394\n",
      "0.7785714285714286\n",
      "0.7473684210526316\n",
      "0.5102880658436214\n"
     ]
    }
   ],
   "source": [
    "acc=np.trace(cf)/np.sum(cf)\n",
    "print(\"accuracy is \",acc)\n",
    "\n",
    "num_cls=cf.shape[0]\n",
    "for i in range(num_cls):\n",
    "    iou=cf[i,i]/(np.sum(cf[i,:])+np.sum(cf[:,i])-cf[i,i])\n",
    "    print(iou)"
   ]
  }
 ],
 "metadata": {
  "kernelspec": {
   "display_name": "Python 3.9.13 64-bit",
   "language": "python",
   "name": "python3"
  },
  "language_info": {
   "codemirror_mode": {
    "name": "ipython",
    "version": 3
   },
   "file_extension": ".py",
   "mimetype": "text/x-python",
   "name": "python",
   "nbconvert_exporter": "python",
   "pygments_lexer": "ipython3",
   "version": "3.9.13"
  },
  "orig_nbformat": 4,
  "vscode": {
   "interpreter": {
    "hash": "56db02d196cd3e52ca3956d9f24d10e80e40127bd6ecf284204396c1bd76ae01"
   }
  }
 },
 "nbformat": 4,
 "nbformat_minor": 2
}
